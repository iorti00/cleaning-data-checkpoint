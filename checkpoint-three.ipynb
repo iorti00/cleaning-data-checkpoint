{
 "cells": [
  {
   "cell_type": "markdown",
   "metadata": {
    "azdata_cell_guid": "26037d32-2047-4157-81ef-595916bd66a0"
   },
   "source": [
    "# Checkpoint Three: Cleaning Data\n",
    "\n",
    "Now you are ready to clean your data. Before starting coding, provide the link to your dataset below.\n",
    "\n",
    "My dataset:My dataset:https://www.kaggle.com/datasets/thiagoazen/all-pokemon-with-stats\n",
    "\n",
    "\n",
    "Import the necessary libraries and create your dataframe(s)."
   ]
  },
  {
   "cell_type": "code",
   "execution_count": 22,
   "metadata": {
    "azdata_cell_guid": "e8adef8e-d0f2-4640-a179-5997f11e82ca"
   },
   "outputs": [
    {
     "name": "stdout",
     "output_type": "stream",
     "text": [
      "<class 'pandas.core.frame.DataFrame'>\n",
      "RangeIndex: 1190 entries, 0 to 1189\n",
      "Data columns (total 12 columns):\n",
      " #   Column     Non-Null Count  Dtype \n",
      "---  ------     --------------  ----- \n",
      " 0   #          1190 non-null   int64 \n",
      " 1   Name       1190 non-null   object\n",
      " 2   Variation  219 non-null    object\n",
      " 3   Type1      1190 non-null   object\n",
      " 4   Type2      648 non-null    object\n",
      " 5   Total      1190 non-null   int64 \n",
      " 6   HP         1190 non-null   int64 \n",
      " 7   Attack     1190 non-null   int64 \n",
      " 8   Defense    1190 non-null   int64 \n",
      " 9   Sp. Atk    1190 non-null   int64 \n",
      " 10  Sp. Def    1190 non-null   int64 \n",
      " 11  Speed      1190 non-null   int64 \n",
      "dtypes: int64(8), object(4)\n",
      "memory usage: 111.7+ KB\n",
      "None\n"
     ]
    }
   ],
   "source": [
    "import pandas as pd\n",
    "import matplotlib.pyplot as plt\n",
    "import seaborn as sns\n",
    "import numpy as np\n",
    "\n",
    "poke_df = pd.read_csv(\"PokemonDB.csv\")\n",
    "\n",
    "#Run Test\n",
    "print(poke_df.info())"
   ]
  },
  {
   "cell_type": "markdown",
   "metadata": {
    "azdata_cell_guid": "e172475a-c4ee-414a-8367-9965355dbba6"
   },
   "source": [
    "## Missing Data\n",
    "\n",
    "Test your dataset for missing data and handle it as needed. Make notes in the form of code comments as to your thought process."
   ]
  },
  {
   "cell_type": "code",
   "execution_count": 23,
   "metadata": {
    "azdata_cell_guid": "e1dc66ef-e471-4c27-92e7-ee878c106eba"
   },
   "outputs": [
    {
     "name": "stdout",
     "output_type": "stream",
     "text": [
      "# - 0%\n",
      "Name - 0%\n",
      "Variation - 82%\n",
      "Type1 - 0%\n",
      "Type2 - 46%\n",
      "Total - 0%\n",
      "HP - 0%\n",
      "Attack - 0%\n",
      "Defense - 0%\n",
      "Sp. Atk - 0%\n",
      "Sp. Def - 0%\n",
      "Speed - 0%\n"
     ]
    }
   ],
   "source": [
    "#checking for missing data\n",
    "for col in poke_df.columns:\n",
    "    pct_missing = np.mean(poke_df[col].isnull())\n",
    "    print('{} - {}%'.format(col, round(pct_missing*100)))"
   ]
  },
  {
   "cell_type": "code",
   "execution_count": 24,
   "metadata": {},
   "outputs": [
    {
     "name": "stdout",
     "output_type": "stream",
     "text": [
      "values [nan, 'Mega Venusaur', 'Mega Charizard X', 'Mega Charizard Y', 'Mega Blastoise', 'Mega Beedrill', 'Mega Pidgeot', 'Alolan Rattata', 'Alolan Raticate', 'Partner Pikachu', 'Alolan Raichu', 'Alolan Sandshrew', 'Alolan Sandslash', 'Alolan Vulpix', 'Alolan Ninetales', 'Alolan Diglett', 'Alolan Dugtrio', 'Alolan Meowth', 'Galarian Meowth', 'Alolan Persian', 'Hisuian Growlithe', 'Hisuian Arcanine', 'Mega Alakazam', 'Alolan Geodude', 'Alolan Graveler', 'Alolan Golem', 'Galarian Ponyta', 'Galarian Rapidash', 'Galarian Slowpoke', 'Mega Slowbro', 'Galarian Slowbro', \"Galarian Farfetch'd\", 'Alolan Grimer', 'Alolan Muk', 'Mega Gengar', 'Hisuian Voltorb', 'Hisuian Electrode', 'Alolan Exeggutor', 'Alolan Marowak', 'Galarian Weezing', 'Mega Kangaskhan', 'Galarian Mr. Mime', 'Mega Pinsir', 'Combat Breed', 'Blaze Breed', 'Aqua Breed', 'Mega Gyarados', 'Partner Eevee', 'Mega Aerodactyl', 'Galarian Articuno', 'Galarian Zapdos', 'Galarian Moltres', 'Mega Mewtwo X', 'Mega Mewtwo Y', 'Hisuian Typhlosion', 'Mega Ampharos', 'Paldean Wooper', 'Galarian Slowking', 'Mega Steelix', 'Hisuian Qwilfish', 'Mega Scizor', 'Mega Heracross', 'Hisuian Sneasel', 'Galarian Corsola', 'Mega Houndoom', 'Mega Tyranitar', 'Mega Sceptile', 'Mega Blaziken', 'Mega Swampert', 'Galarian Zigzagoon', 'Galarian Linoone', 'Mega Gardevoir', 'Mega Sableye', 'Mega Mawile', 'Mega Aggron', 'Mega Medicham', 'Mega Manectric', 'Mega Sharpedo', 'Mega Camerupt', 'Mega Altaria', 'Sunny Form', 'Rainy Form', 'Snowy Form', 'Mega Banette', 'Mega Absol', 'Mega Glalie', 'Mega Salamence', 'Mega Metagross', 'Mega Latias', 'Mega Latios', 'Primal Kyogre', 'Primal Groudon', 'Mega Rayquaza', 'Normal Forme', 'Attack Forme', 'Defense Forme', 'Speed Forme', 'Plant Cloak', 'Sandy Cloak', 'Trash Cloak', 'Mega Lopunny', 'Mega Garchomp', 'Mega Lucario', 'Mega Abomasnow', 'Mega Gallade', 'Heat Rotom', 'Wash Rotom', 'Frost Rotom', 'Fan Rotom', 'Mow Rotom', 'Origin Forme', 'Altered Forme', 'Land Forme', 'Sky Forme', 'Hisuian Samurott', 'Mega Audino', 'Hisuian Lilligant', 'Red-Striped Form', 'Blue-Striped Form', 'White-Striped Form', 'Galarian Darumaka', 'Standard Mode', 'Zen Mode', 'Galarian Standard Mode', 'Galarian Zen Mode', 'Galarian Yamask', 'Hisuian Zorua', 'Hisuian Zoroark', 'Galarian Stunfisk', 'Hisuian Braviary', 'Incarnate Forme', 'Therian Forme', 'White Kyurem', 'Black Kyurem', 'Ordinary Form', 'Resolute Form', 'Aria Forme', 'Pirouette Forme', 'Ash-Greninja', 'Male', 'Female', 'Shield Forme', 'Blade Forme', 'Hisuian Sliggoo', 'Hisuian Goodra', 'Average Size', 'Small Size', 'Large Size', 'Super Size', 'Hisuian Avalugg', '50% Forme', '10% Forme', 'Complete Forme', 'Mega Diancie', 'Hoopa Confined', 'Hoopa Unbound', 'Hisuian Decidueye', 'Baile Style', 'Pom-Pom Style', \"Pa'u Style\", 'Sensu Style', 'Own Tempo Rockruff', 'Midday Form', 'Midnight Form', 'Dusk Form', 'Solo Form', 'School Form', 'Meteor Form', 'Core Form', 'Dusk Mane Necrozma', 'Dawn Wings Necrozma', 'Ultra Necrozma', 'Amped Form', 'Low Key Form', 'Ice Face', 'Noice Face', 'Full Belly Mode', 'Hangry Mode', 'Hero of Many Battles', 'Crowned Sword', 'Crowned Shield', 'Eternamax', 'Single Strike Style', 'Rapid Strike Style', 'Ice Rider', 'Shadow Rider', 'Family of Three', 'Family of Four', 'Green Plumage', 'Blue Plumage', 'Yellow Plumage', 'White Plumage', 'Zero Form', 'Hero Form', 'Two-Segment Form', 'Three-Segment Form', 'Chest Form', 'Roaming Form'] .\n"
     ]
    }
   ],
   "source": [
    "#unique values in 'Variation'\n",
    "null_variation = poke_df.drop_duplicates(subset=[\"Variation\"])\n",
    "print(\"values\", poke_df.drop_duplicates(subset=[\"Variation\"])[\"Variation\"].tolist(),\".\")"
   ]
  },
  {
   "cell_type": "code",
   "execution_count": 25,
   "metadata": {},
   "outputs": [
    {
     "name": "stdout",
     "output_type": "stream",
     "text": [
      "values ['Poison', nan, 'Flying', 'Dragon', 'Normal', 'Psychic', 'Steel', 'Ground', 'Fairy', 'Grass', 'Rock', 'Fighting', 'Electric', 'Ice', 'Dark', 'Ghost', 'Fire', 'Water', 'Bug'] .\n"
     ]
    }
   ],
   "source": [
    "#unique values in 'Type2'\n",
    "null_type2 = poke_df.drop_duplicates(subset=[\"Type2\"])\n",
    "print(\"values\",poke_df.drop_duplicates(subset=[\"Type2\"])[\"Type2\"].tolist(),\".\")"
   ]
  },
  {
   "cell_type": "code",
   "execution_count": 26,
   "metadata": {},
   "outputs": [
    {
     "name": "stdout",
     "output_type": "stream",
     "text": [
      "                 #        Total           HP       Attack      Defense  \\\n",
      "count  1190.000000  1190.000000  1190.000000  1190.000000  1190.000000   \n",
      "mean    491.062185   440.900000    70.852941    80.957983    74.586555   \n",
      "std     292.768344   121.056684    26.886443    32.119650    30.718212   \n",
      "min       1.000000   175.000000     1.000000     5.000000     5.000000   \n",
      "25%     234.250000   330.000000    51.250000    56.000000    51.000000   \n",
      "50%     484.500000   460.000000    70.000000    80.000000    70.000000   \n",
      "75%     741.000000   520.000000    85.000000   100.000000    90.000000   \n",
      "max    1008.000000  1125.000000   255.000000   190.000000   250.000000   \n",
      "\n",
      "           Sp. Atk      Sp. Def        Speed  \n",
      "count  1190.000000  1190.000000  1190.000000  \n",
      "mean     72.756303    72.050420    69.695798  \n",
      "std      32.658636    27.637522    30.204376  \n",
      "min      10.000000    20.000000     5.000000  \n",
      "25%      50.000000    50.000000    45.000000  \n",
      "50%      65.000000    70.000000    67.000000  \n",
      "75%      95.000000    90.000000    90.000000  \n",
      "max     194.000000   250.000000   200.000000  \n"
     ]
    }
   ],
   "source": [
    "#further ispection\n",
    "print(poke_df.describe())\n",
    "#checking if Int. values are 0 in central tendency or dispersion of a dataset’s distribution. No 0's which is good no pokemon stat is missing. \n",
    "#in the case of Type2 and Variation, it is okay that we have missing data as not every pokemon will have a variation or type2."
   ]
  },
  {
   "cell_type": "markdown",
   "metadata": {
    "azdata_cell_guid": "1233f543-e9a0-4f78-96f5-d7536554102e"
   },
   "source": [
    "## Irregular Data\n",
    "\n",
    "Detect outliers in your dataset and handle them as needed. Use code comments to make notes about your thought process."
   ]
  },
  {
   "cell_type": "code",
   "execution_count": 27,
   "metadata": {},
   "outputs": [
    {
     "data": {
      "text/plain": [
       "<AxesSubplot:>"
      ]
     },
     "execution_count": 27,
     "metadata": {},
     "output_type": "execute_result"
    },
    {
     "data": {
      "image/png": "[encoded data removed]",
      "text/plain": [
       "<Figure size 432x288 with 1 Axes>"
      ]
     },
     "metadata": {
      "needs_background": "light"
     },
     "output_type": "display_data"
    }
   ],
   "source": [
    "# bar chart -  distribution of a categorical variable\n",
    "poke_df['Type1'].value_counts().plot.bar()"
   ]
  },
  {
   "cell_type": "code",
   "execution_count": 28,
   "metadata": {
    "azdata_cell_guid": "efed50ae-16f0-471d-98e2-632553a74c12"
   },
   "outputs": [
    {
     "data": {
      "text/plain": [
       "<AxesSubplot:>"
      ]
     },
     "execution_count": 28,
     "metadata": {},
     "output_type": "execute_result"
    },
    {
     "data": {
      "image/png": "[encoded data removed]",
      "text/plain": [
       "<Figure size 432x288 with 1 Axes>"
      ]
     },
     "metadata": {
      "needs_background": "light"
     },
     "output_type": "display_data"
    }
   ],
   "source": [
    "# bar chart -  distribution of a categorical variable\n",
    "poke_df['Type2'].value_counts().plot.bar()"
   ]
  },
  {
   "cell_type": "code",
   "execution_count": 29,
   "metadata": {},
   "outputs": [
    {
     "data": {
      "text/plain": [
       "<AxesSubplot:>"
      ]
     },
     "execution_count": 29,
     "metadata": {},
     "output_type": "execute_result"
    },
    {
     "data": {
      "image/png": "[encoded data removed]",
      "text/plain": [
       "<Figure size 432x288 with 1 Axes>"
      ]
     },
     "metadata": {
      "needs_background": "light"
     },
     "output_type": "display_data"
    }
   ],
   "source": [
    "# bar chart -  distribution of a categorical variable\n",
    "# looks messy, continue to look at just these outliers, where Variation value > 1.  \n",
    "poke_df['Variation'].value_counts().plot.bar()"
   ]
  },
  {
   "cell_type": "code",
   "execution_count": 30,
   "metadata": {},
   "outputs": [
    {
     "data": {
      "text/plain": [
       "<AxesSubplot:>"
      ]
     },
     "execution_count": 30,
     "metadata": {},
     "output_type": "execute_result"
    },
    {
     "data": {
      "image/png": "[encoded data removed]",
      "text/plain": [
       "<Figure size 432x288 with 1 Axes>"
      ]
     },
     "metadata": {
      "needs_background": "light"
     },
     "output_type": "display_data"
    }
   ],
   "source": [
    "#looking at the outliers to clear up the chart info\n",
    "poke_df['Variation'].value_counts().loc[lambda x : x>1].plot.bar()"
   ]
  },
  {
   "cell_type": "code",
   "execution_count": 51,
   "metadata": {},
   "outputs": [
    {
     "data": {
      "text/plain": [
       "Female                  4\n",
       "Male                    4\n",
       "Therian Forme           4\n",
       "Incarnate Forme         4\n",
       "Origin Forme            3\n",
       "Trash Cloak             2\n",
       "Small Size              2\n",
       "Average Size            2\n",
       "Super Size              2\n",
       "Hero of Many Battles    2\n",
       "Large Size              2\n",
       "Sandy Cloak             2\n",
       "Plant Cloak             2\n",
       "Name: Variation, dtype: int64"
      ]
     },
     "execution_count": 51,
     "metadata": {},
     "output_type": "execute_result"
    }
   ],
   "source": [
    "poke_df['Variation'].value_counts().loc[lambda x : x>1]\n"
   ]
  },
  {
   "cell_type": "code",
   "execution_count": 31,
   "metadata": {},
   "outputs": [
    {
     "data": {
      "text/plain": [
       "Mow Rotom             1\n",
       "Pirouette Forme       1\n",
       "Heat Rotom            1\n",
       "White Kyurem          1\n",
       "Black Kyurem          1\n",
       "                     ..\n",
       "Mega Swampert         1\n",
       "Galarian Zigzagoon    1\n",
       "Galarian Linoone      1\n",
       "Mega Gardevoir        1\n",
       "Roaming Form          1\n",
       "Name: Variation, Length: 184, dtype: int64"
      ]
     },
     "execution_count": 31,
     "metadata": {},
     "output_type": "execute_result"
    }
   ],
   "source": [
    "#List of pokemon variation that occur only once.\n",
    "poke_df['Variation'].value_counts().loc[lambda x : x==1]"
   ]
  },
  {
   "cell_type": "code",
   "execution_count": null,
   "metadata": {},
   "outputs": [],
   "source": []
  },
  {
   "cell_type": "markdown",
   "metadata": {
    "azdata_cell_guid": "6f5b8ee0-bab3-44bc-958a-67d1e4c0407f"
   },
   "source": [
    "## Unnecessary Data\n",
    "\n",
    "Look for the different types of unnecessary data in your dataset and address it as needed. Make sure to use code comments to illustrate your thought process."
   ]
  },
  {
   "cell_type": "code",
   "execution_count": 32,
   "metadata": {
    "azdata_cell_guid": "e788a239-2fbf-41de-9bd3-19e52e3b187c"
   },
   "outputs": [],
   "source": [
    "#Most common duplicate variation form is either male/female"
   ]
  },
  {
   "cell_type": "code",
   "execution_count": 33,
   "metadata": {},
   "outputs": [
    {
     "data": {
      "text/html": [
       "<div>\n",
       "<style scoped>\n",
       "    .dataframe tbody tr th:only-of-type {\n",
       "        vertical-align: middle;\n",
       "    }\n",
       "\n",
       "    .dataframe tbody tr th {\n",
       "        vertical-align: top;\n",
       "    }\n",
       "\n",
       "    .dataframe thead th {\n",
       "        text-align: right;\n",
       "    }\n",
       "</style>\n",
       "<table border=\"1\" class=\"dataframe\">\n",
       "  <thead>\n",
       "    <tr style=\"text-align: right;\">\n",
       "      <th></th>\n",
       "      <th>#</th>\n",
       "      <th>Name</th>\n",
       "      <th>Variation</th>\n",
       "      <th>Type1</th>\n",
       "      <th>Type2</th>\n",
       "      <th>Total</th>\n",
       "      <th>HP</th>\n",
       "      <th>Attack</th>\n",
       "      <th>Defense</th>\n",
       "      <th>Sp. Atk</th>\n",
       "      <th>Sp. Def</th>\n",
       "      <th>Speed</th>\n",
       "    </tr>\n",
       "  </thead>\n",
       "  <tbody>\n",
       "    <tr>\n",
       "      <th>812</th>\n",
       "      <td>678</td>\n",
       "      <td>Meowstic</td>\n",
       "      <td>Male</td>\n",
       "      <td>Psychic</td>\n",
       "      <td>NaN</td>\n",
       "      <td>466</td>\n",
       "      <td>74</td>\n",
       "      <td>48</td>\n",
       "      <td>76</td>\n",
       "      <td>83</td>\n",
       "      <td>81</td>\n",
       "      <td>104</td>\n",
       "    </tr>\n",
       "    <tr>\n",
       "      <th>813</th>\n",
       "      <td>678</td>\n",
       "      <td>Meowstic</td>\n",
       "      <td>Female</td>\n",
       "      <td>Psychic</td>\n",
       "      <td>NaN</td>\n",
       "      <td>466</td>\n",
       "      <td>74</td>\n",
       "      <td>48</td>\n",
       "      <td>76</td>\n",
       "      <td>83</td>\n",
       "      <td>81</td>\n",
       "      <td>104</td>\n",
       "    </tr>\n",
       "    <tr>\n",
       "      <th>1039</th>\n",
       "      <td>876</td>\n",
       "      <td>Indeedee</td>\n",
       "      <td>Male</td>\n",
       "      <td>Psychic</td>\n",
       "      <td>Normal</td>\n",
       "      <td>475</td>\n",
       "      <td>60</td>\n",
       "      <td>65</td>\n",
       "      <td>55</td>\n",
       "      <td>105</td>\n",
       "      <td>95</td>\n",
       "      <td>95</td>\n",
       "    </tr>\n",
       "    <tr>\n",
       "      <th>1040</th>\n",
       "      <td>876</td>\n",
       "      <td>Indeedee</td>\n",
       "      <td>Female</td>\n",
       "      <td>Psychic</td>\n",
       "      <td>Normal</td>\n",
       "      <td>475</td>\n",
       "      <td>70</td>\n",
       "      <td>55</td>\n",
       "      <td>65</td>\n",
       "      <td>95</td>\n",
       "      <td>105</td>\n",
       "      <td>85</td>\n",
       "    </tr>\n",
       "    <tr>\n",
       "      <th>1073</th>\n",
       "      <td>902</td>\n",
       "      <td>Basculegion</td>\n",
       "      <td>Male</td>\n",
       "      <td>Water</td>\n",
       "      <td>Ghost</td>\n",
       "      <td>530</td>\n",
       "      <td>120</td>\n",
       "      <td>112</td>\n",
       "      <td>65</td>\n",
       "      <td>80</td>\n",
       "      <td>75</td>\n",
       "      <td>78</td>\n",
       "    </tr>\n",
       "    <tr>\n",
       "      <th>1074</th>\n",
       "      <td>902</td>\n",
       "      <td>Basculegion</td>\n",
       "      <td>Female</td>\n",
       "      <td>Water</td>\n",
       "      <td>Ghost</td>\n",
       "      <td>530</td>\n",
       "      <td>120</td>\n",
       "      <td>92</td>\n",
       "      <td>65</td>\n",
       "      <td>100</td>\n",
       "      <td>75</td>\n",
       "      <td>78</td>\n",
       "    </tr>\n",
       "    <tr>\n",
       "      <th>1089</th>\n",
       "      <td>916</td>\n",
       "      <td>Oinkologne</td>\n",
       "      <td>Male</td>\n",
       "      <td>Normal</td>\n",
       "      <td>NaN</td>\n",
       "      <td>489</td>\n",
       "      <td>110</td>\n",
       "      <td>100</td>\n",
       "      <td>75</td>\n",
       "      <td>59</td>\n",
       "      <td>80</td>\n",
       "      <td>65</td>\n",
       "    </tr>\n",
       "    <tr>\n",
       "      <th>1090</th>\n",
       "      <td>916</td>\n",
       "      <td>Oinkologne</td>\n",
       "      <td>Female</td>\n",
       "      <td>Normal</td>\n",
       "      <td>NaN</td>\n",
       "      <td>489</td>\n",
       "      <td>115</td>\n",
       "      <td>90</td>\n",
       "      <td>70</td>\n",
       "      <td>59</td>\n",
       "      <td>90</td>\n",
       "      <td>65</td>\n",
       "    </tr>\n",
       "  </tbody>\n",
       "</table>\n",
       "</div>"
      ],
      "text/plain": [
       "        #         Name Variation    Type1   Type2  Total   HP  Attack  \\\n",
       "812   678     Meowstic      Male  Psychic     NaN    466   74      48   \n",
       "813   678     Meowstic    Female  Psychic     NaN    466   74      48   \n",
       "1039  876     Indeedee      Male  Psychic  Normal    475   60      65   \n",
       "1040  876     Indeedee    Female  Psychic  Normal    475   70      55   \n",
       "1073  902  Basculegion      Male    Water   Ghost    530  120     112   \n",
       "1074  902  Basculegion    Female    Water   Ghost    530  120      92   \n",
       "1089  916   Oinkologne      Male   Normal     NaN    489  110     100   \n",
       "1090  916   Oinkologne    Female   Normal     NaN    489  115      90   \n",
       "\n",
       "      Defense  Sp. Atk  Sp. Def  Speed  \n",
       "812        76       83       81    104  \n",
       "813        76       83       81    104  \n",
       "1039       55      105       95     95  \n",
       "1040       65       95      105     85  \n",
       "1073       65       80       75     78  \n",
       "1074       65      100       75     78  \n",
       "1089       75       59       80     65  \n",
       "1090       70       59       90     65  "
      ]
     },
     "execution_count": 33,
     "metadata": {},
     "output_type": "execute_result"
    }
   ],
   "source": [
    "poke_df.loc[poke_df['Variation'].isin(['Male','Female'])]"
   ]
  },
  {
   "cell_type": "code",
   "execution_count": 34,
   "metadata": {},
   "outputs": [
    {
     "name": "stdout",
     "output_type": "stream",
     "text": [
      "(1190, 12)\n",
      "(1190, 12)\n"
     ]
    },
    {
     "data": {
      "text/html": [
       "<div>\n",
       "<style scoped>\n",
       "    .dataframe tbody tr th:only-of-type {\n",
       "        vertical-align: middle;\n",
       "    }\n",
       "\n",
       "    .dataframe tbody tr th {\n",
       "        vertical-align: top;\n",
       "    }\n",
       "\n",
       "    .dataframe thead th {\n",
       "        text-align: right;\n",
       "    }\n",
       "</style>\n",
       "<table border=\"1\" class=\"dataframe\">\n",
       "  <thead>\n",
       "    <tr style=\"text-align: right;\">\n",
       "      <th></th>\n",
       "      <th>#</th>\n",
       "      <th>Name</th>\n",
       "      <th>Variation</th>\n",
       "      <th>Type1</th>\n",
       "      <th>Type2</th>\n",
       "      <th>Total</th>\n",
       "      <th>HP</th>\n",
       "      <th>Attack</th>\n",
       "      <th>Defense</th>\n",
       "      <th>Sp. Atk</th>\n",
       "      <th>Sp. Def</th>\n",
       "      <th>Speed</th>\n",
       "    </tr>\n",
       "  </thead>\n",
       "  <tbody>\n",
       "    <tr>\n",
       "      <th>812</th>\n",
       "      <td>678</td>\n",
       "      <td>Meowstic</td>\n",
       "      <td>Male</td>\n",
       "      <td>Psychic</td>\n",
       "      <td>NaN</td>\n",
       "      <td>466</td>\n",
       "      <td>74</td>\n",
       "      <td>48</td>\n",
       "      <td>76</td>\n",
       "      <td>83</td>\n",
       "      <td>81</td>\n",
       "      <td>104</td>\n",
       "    </tr>\n",
       "  </tbody>\n",
       "</table>\n",
       "</div>"
      ],
      "text/plain": [
       "       #      Name Variation    Type1 Type2  Total  HP  Attack  Defense  \\\n",
       "812  678  Meowstic      Male  Psychic   NaN    466  74      48       76   \n",
       "\n",
       "     Sp. Atk  Sp. Def  Speed  \n",
       "812       83       81    104  "
      ]
     },
     "execution_count": 34,
     "metadata": {},
     "output_type": "execute_result"
    }
   ],
   "source": [
    "#In the case of Meowstic, looks like the Male Vs. Female base states are not effected by the gender variation. \n",
    "poke_df_dedupped = poke_df.drop_duplicates()\n",
    "\n",
    "print(poke_df.shape)\n",
    "print(poke_df_dedupped.shape)\n",
    "\n",
    "#testing by index\n",
    "(poke_df.loc[[812]])\n"
   ]
  },
  {
   "cell_type": "code",
   "execution_count": 35,
   "metadata": {},
   "outputs": [
    {
     "data": {
      "text/html": [
       "<div>\n",
       "<style scoped>\n",
       "    .dataframe tbody tr th:only-of-type {\n",
       "        vertical-align: middle;\n",
       "    }\n",
       "\n",
       "    .dataframe tbody tr th {\n",
       "        vertical-align: top;\n",
       "    }\n",
       "\n",
       "    .dataframe thead th {\n",
       "        text-align: right;\n",
       "    }\n",
       "</style>\n",
       "<table border=\"1\" class=\"dataframe\">\n",
       "  <thead>\n",
       "    <tr style=\"text-align: right;\">\n",
       "      <th></th>\n",
       "      <th>#</th>\n",
       "      <th>Name</th>\n",
       "      <th>Variation</th>\n",
       "      <th>Type1</th>\n",
       "      <th>Type2</th>\n",
       "      <th>Total</th>\n",
       "      <th>HP</th>\n",
       "      <th>Attack</th>\n",
       "      <th>Defense</th>\n",
       "      <th>Sp. Atk</th>\n",
       "      <th>Sp. Def</th>\n",
       "      <th>Speed</th>\n",
       "    </tr>\n",
       "  </thead>\n",
       "  <tbody>\n",
       "    <tr>\n",
       "      <th>813</th>\n",
       "      <td>678</td>\n",
       "      <td>Meowstic</td>\n",
       "      <td>Female</td>\n",
       "      <td>Psychic</td>\n",
       "      <td>NaN</td>\n",
       "      <td>466</td>\n",
       "      <td>74</td>\n",
       "      <td>48</td>\n",
       "      <td>76</td>\n",
       "      <td>83</td>\n",
       "      <td>81</td>\n",
       "      <td>104</td>\n",
       "    </tr>\n",
       "  </tbody>\n",
       "</table>\n",
       "</div>"
      ],
      "text/plain": [
       "       #      Name Variation    Type1 Type2  Total  HP  Attack  Defense  \\\n",
       "813  678  Meowstic    Female  Psychic   NaN    466  74      48       76   \n",
       "\n",
       "     Sp. Atk  Sp. Def  Speed  \n",
       "813       83       81    104  "
      ]
     },
     "execution_count": 35,
     "metadata": {},
     "output_type": "execute_result"
    }
   ],
   "source": [
    "#testing by index\n",
    "(poke_df.loc[[813]])"
   ]
  },
  {
   "cell_type": "code",
   "execution_count": 36,
   "metadata": {},
   "outputs": [
    {
     "name": "stdout",
     "output_type": "stream",
     "text": [
      "0                 NaN\n",
      "1                 NaN\n",
      "2                 NaN\n",
      "3       Mega Venusaur\n",
      "4                 NaN\n",
      "            ...      \n",
      "1185              NaN\n",
      "1186              NaN\n",
      "1187              NaN\n",
      "1188              NaN\n",
      "1189              NaN\n",
      "Name: Variation, Length: 1190, dtype: object\n"
     ]
    }
   ],
   "source": [
    "print(poke_df['Variation'])"
   ]
  },
  {
   "cell_type": "code",
   "execution_count": null,
   "metadata": {},
   "outputs": [],
   "source": []
  },
  {
   "cell_type": "markdown",
   "metadata": {
    "azdata_cell_guid": "53e0cf94-c68a-4fa0-9849-9505a66bcce6"
   },
   "source": [
    "## Inconsistent Data\n",
    "\n",
    "Check for inconsistent data and address any that arises. As always, use code comments to illustrate your thought process."
   ]
  },
  {
   "cell_type": "code",
   "execution_count": 37,
   "metadata": {
    "azdata_cell_guid": "e9de6624-812a-43f8-8e20-93b4a49b091f"
   },
   "outputs": [
    {
     "data": {
      "text/html": [
       "<div>\n",
       "<style scoped>\n",
       "    .dataframe tbody tr th:only-of-type {\n",
       "        vertical-align: middle;\n",
       "    }\n",
       "\n",
       "    .dataframe tbody tr th {\n",
       "        vertical-align: top;\n",
       "    }\n",
       "\n",
       "    .dataframe thead th {\n",
       "        text-align: right;\n",
       "    }\n",
       "</style>\n",
       "<table border=\"1\" class=\"dataframe\">\n",
       "  <thead>\n",
       "    <tr style=\"text-align: right;\">\n",
       "      <th></th>\n",
       "      <th>Name</th>\n",
       "    </tr>\n",
       "  </thead>\n",
       "  <tbody>\n",
       "    <tr>\n",
       "      <th>3</th>\n",
       "      <td>Venusaur</td>\n",
       "    </tr>\n",
       "    <tr>\n",
       "      <th>7</th>\n",
       "      <td>Charizard</td>\n",
       "    </tr>\n",
       "    <tr>\n",
       "      <th>8</th>\n",
       "      <td>Charizard</td>\n",
       "    </tr>\n",
       "    <tr>\n",
       "      <th>12</th>\n",
       "      <td>Blastoise</td>\n",
       "    </tr>\n",
       "    <tr>\n",
       "      <th>19</th>\n",
       "      <td>Beedrill</td>\n",
       "    </tr>\n",
       "    <tr>\n",
       "      <th>...</th>\n",
       "      <td>...</td>\n",
       "    </tr>\n",
       "    <tr>\n",
       "      <th>1143</th>\n",
       "      <td>Palafin</td>\n",
       "    </tr>\n",
       "    <tr>\n",
       "      <th>1161</th>\n",
       "      <td>Dudunsparce</td>\n",
       "    </tr>\n",
       "    <tr>\n",
       "      <th>1162</th>\n",
       "      <td>Dudunsparce</td>\n",
       "    </tr>\n",
       "    <tr>\n",
       "      <th>1179</th>\n",
       "      <td>Gimmighoul</td>\n",
       "    </tr>\n",
       "    <tr>\n",
       "      <th>1180</th>\n",
       "      <td>Gimmighoul</td>\n",
       "    </tr>\n",
       "  </tbody>\n",
       "</table>\n",
       "<p>219 rows × 1 columns</p>\n",
       "</div>"
      ],
      "text/plain": [
       "             Name\n",
       "3        Venusaur\n",
       "7       Charizard\n",
       "8       Charizard\n",
       "12      Blastoise\n",
       "19       Beedrill\n",
       "...           ...\n",
       "1143      Palafin\n",
       "1161  Dudunsparce\n",
       "1162  Dudunsparce\n",
       "1179   Gimmighoul\n",
       "1180   Gimmighoul\n",
       "\n",
       "[219 rows x 1 columns]"
      ]
     },
     "execution_count": 37,
     "metadata": {},
     "output_type": "execute_result"
    }
   ],
   "source": [
    "#inspecting all Variations that are not null. \n",
    "poke_df.loc[poke_df['Variation'].notnull(), ['Name']]"
   ]
  },
  {
   "cell_type": "code",
   "execution_count": 38,
   "metadata": {},
   "outputs": [
    {
     "name": "stdout",
     "output_type": "stream",
     "text": [
      "0                 NaN\n",
      "1                 NaN\n",
      "2                 NaN\n",
      "3       Mega Venusaur\n",
      "4                 NaN\n",
      "            ...      \n",
      "1185              NaN\n",
      "1186              NaN\n",
      "1187              NaN\n",
      "1188              NaN\n",
      "1189              NaN\n",
      "Name: Variation, Length: 1190, dtype: object\n"
     ]
    }
   ],
   "source": [
    "print(poke_df['Variation'])"
   ]
  },
  {
   "cell_type": "code",
   "execution_count": 39,
   "metadata": {},
   "outputs": [
    {
     "data": {
      "text/html": [
       "<div>\n",
       "<style scoped>\n",
       "    .dataframe tbody tr th:only-of-type {\n",
       "        vertical-align: middle;\n",
       "    }\n",
       "\n",
       "    .dataframe tbody tr th {\n",
       "        vertical-align: top;\n",
       "    }\n",
       "\n",
       "    .dataframe thead th {\n",
       "        text-align: right;\n",
       "    }\n",
       "</style>\n",
       "<table border=\"1\" class=\"dataframe\">\n",
       "  <thead>\n",
       "    <tr style=\"text-align: right;\">\n",
       "      <th></th>\n",
       "      <th>Name</th>\n",
       "    </tr>\n",
       "  </thead>\n",
       "  <tbody>\n",
       "    <tr>\n",
       "      <th>0</th>\n",
       "      <td>Bulbasaur</td>\n",
       "    </tr>\n",
       "    <tr>\n",
       "      <th>1</th>\n",
       "      <td>Ivysaur</td>\n",
       "    </tr>\n",
       "    <tr>\n",
       "      <th>2</th>\n",
       "      <td>Venusaur</td>\n",
       "    </tr>\n",
       "    <tr>\n",
       "      <th>3</th>\n",
       "      <td>Venusaur</td>\n",
       "    </tr>\n",
       "    <tr>\n",
       "      <th>6</th>\n",
       "      <td>Charizard</td>\n",
       "    </tr>\n",
       "    <tr>\n",
       "      <th>...</th>\n",
       "      <td>...</td>\n",
       "    </tr>\n",
       "    <tr>\n",
       "      <th>1185</th>\n",
       "      <td>Chi-Yu</td>\n",
       "    </tr>\n",
       "    <tr>\n",
       "      <th>1186</th>\n",
       "      <td>Roaring Moon</td>\n",
       "    </tr>\n",
       "    <tr>\n",
       "      <th>1187</th>\n",
       "      <td>Iron Valiant</td>\n",
       "    </tr>\n",
       "    <tr>\n",
       "      <th>1188</th>\n",
       "      <td>Koraidon</td>\n",
       "    </tr>\n",
       "    <tr>\n",
       "      <th>1189</th>\n",
       "      <td>Miraidon</td>\n",
       "    </tr>\n",
       "  </tbody>\n",
       "</table>\n",
       "<p>648 rows × 1 columns</p>\n",
       "</div>"
      ],
      "text/plain": [
       "              Name\n",
       "0        Bulbasaur\n",
       "1          Ivysaur\n",
       "2         Venusaur\n",
       "3         Venusaur\n",
       "6        Charizard\n",
       "...            ...\n",
       "1185        Chi-Yu\n",
       "1186  Roaring Moon\n",
       "1187  Iron Valiant\n",
       "1188      Koraidon\n",
       "1189      Miraidon\n",
       "\n",
       "[648 rows x 1 columns]"
      ]
     },
     "execution_count": 39,
     "metadata": {},
     "output_type": "execute_result"
    }
   ],
   "source": [
    "#inspecting all Type2 that are not null. \n",
    "poke_df.loc[poke_df['Type2'].notnull(), ['Name']]"
   ]
  },
  {
   "cell_type": "code",
   "execution_count": 40,
   "metadata": {},
   "outputs": [
    {
     "name": "stdout",
     "output_type": "stream",
     "text": [
      "0         Poison\n",
      "1         Poison\n",
      "2         Poison\n",
      "3         Poison\n",
      "4            NaN\n",
      "          ...   \n",
      "1185        Fire\n",
      "1186        Dark\n",
      "1187    Fighting\n",
      "1188      Dragon\n",
      "1189      Dragon\n",
      "Name: Type2, Length: 1190, dtype: object\n"
     ]
    }
   ],
   "source": [
    "#testing with Type2 info for consistency \n",
    "print(poke_df['Type2'])"
   ]
  },
  {
   "cell_type": "code",
   "execution_count": 41,
   "metadata": {},
   "outputs": [
    {
     "data": {
      "text/plain": [
       "Rotom           6\n",
       "Squawkabilly    4\n",
       "Oricorio        4\n",
       "Necrozma        4\n",
       "Gourgeist       4\n",
       "               ..\n",
       "Infernape       1\n",
       "Piplup          1\n",
       "Prinplup        1\n",
       "Empoleon        1\n",
       "Miraidon        1\n",
       "Name: Name, Length: 1008, dtype: int64"
      ]
     },
     "execution_count": 41,
     "metadata": {},
     "output_type": "execute_result"
    }
   ],
   "source": [
    "#inspecting dup name values in refrence to variations. \n",
    "#Pokemon with dup name values also have variations. \n",
    "poke_df['Name'].value_counts()"
   ]
  },
  {
   "cell_type": "code",
   "execution_count": 42,
   "metadata": {},
   "outputs": [
    {
     "data": {
      "text/plain": [
       "Minccino     1\n",
       "Haxorus      1\n",
       "Cubchoo      1\n",
       "Noibat       1\n",
       "Garbodor     1\n",
       "            ..\n",
       "Infernape    1\n",
       "Piplup       1\n",
       "Prinplup     1\n",
       "Empoleon     1\n",
       "Miraidon     1\n",
       "Name: Name, Length: 859, dtype: int64"
      ]
     },
     "execution_count": 42,
     "metadata": {},
     "output_type": "execute_result"
    }
   ],
   "source": [
    "#testing how many with value_count as 1\n",
    "poke_df['Name'].value_counts().loc[lambda x : x==1]"
   ]
  },
  {
   "cell_type": "code",
   "execution_count": 43,
   "metadata": {},
   "outputs": [
    {
     "data": {
      "text/plain": [
       "Braviary     2\n",
       "Keldeo       2\n",
       "Urshifu      2\n",
       "Lucario      2\n",
       "Eternatus    2\n",
       "            ..\n",
       "Grimer       2\n",
       "Shaymin      2\n",
       "Exeggutor    2\n",
       "Voltorb      2\n",
       "Muk          2\n",
       "Name: Name, Length: 128, dtype: int64"
      ]
     },
     "execution_count": 43,
     "metadata": {},
     "output_type": "execute_result"
    }
   ],
   "source": [
    "#testing pokemon with value_counts at 2\n",
    "poke_df['Name'].value_counts().loc[lambda x : x==2]"
   ]
  },
  {
   "cell_type": "code",
   "execution_count": 44,
   "metadata": {},
   "outputs": [
    {
     "data": {
      "text/plain": [
       "Calyrex      3\n",
       "Kyurem       3\n",
       "Burmy        3\n",
       "Slowbro      3\n",
       "Zygarde      3\n",
       "Wormadam     3\n",
       "Meowth       3\n",
       "Mewtwo       3\n",
       "Basculin     3\n",
       "Charizard    3\n",
       "Lycanroc     3\n",
       "Name: Name, dtype: int64"
      ]
     },
     "execution_count": 44,
     "metadata": {},
     "output_type": "execute_result"
    }
   ],
   "source": [
    "#testing pokemon with value_counts as 3\n",
    "poke_df['Name'].value_counts().loc[lambda x : x==3]"
   ]
  },
  {
   "cell_type": "code",
   "execution_count": 45,
   "metadata": {},
   "outputs": [
    {
     "data": {
      "text/plain": [
       "Squawkabilly    4\n",
       "Oricorio        4\n",
       "Necrozma        4\n",
       "Gourgeist       4\n",
       "Pumpkaboo       4\n",
       "Tauros          4\n",
       "Darmanitan      4\n",
       "Deoxys          4\n",
       "Castform        4\n",
       "Name: Name, dtype: int64"
      ]
     },
     "execution_count": 45,
     "metadata": {},
     "output_type": "execute_result"
    }
   ],
   "source": [
    "#testing pokemon with value_counts as 3\n",
    "poke_df['Name'].value_counts().loc[lambda x : x==4]"
   ]
  },
  {
   "cell_type": "code",
   "execution_count": 46,
   "metadata": {},
   "outputs": [
    {
     "data": {
      "text/plain": [
       "Series([], Name: Name, dtype: int64)"
      ]
     },
     "execution_count": 46,
     "metadata": {},
     "output_type": "execute_result"
    }
   ],
   "source": [
    "#value counts are not != 4. \n",
    "poke_df['Name'].value_counts().loc[lambda x : x==5]"
   ]
  },
  {
   "cell_type": "code",
   "execution_count": 47,
   "metadata": {},
   "outputs": [
    {
     "data": {
      "text/plain": [
       "Rotom    6\n",
       "Name: Name, dtype: int64"
      ]
     },
     "execution_count": 47,
     "metadata": {},
     "output_type": "execute_result"
    }
   ],
   "source": [
    "#tesing pokemon with value_counts as 6\n",
    "poke_df['Name'].value_counts().loc[lambda x : x==6]"
   ]
  },
  {
   "cell_type": "code",
   "execution_count": 48,
   "metadata": {},
   "outputs": [
    {
     "data": {
      "text/html": [
       "<div>\n",
       "<style scoped>\n",
       "    .dataframe tbody tr th:only-of-type {\n",
       "        vertical-align: middle;\n",
       "    }\n",
       "\n",
       "    .dataframe tbody tr th {\n",
       "        vertical-align: top;\n",
       "    }\n",
       "\n",
       "    .dataframe thead th {\n",
       "        text-align: right;\n",
       "    }\n",
       "</style>\n",
       "<table border=\"1\" class=\"dataframe\">\n",
       "  <thead>\n",
       "    <tr style=\"text-align: right;\">\n",
       "      <th></th>\n",
       "      <th>Name</th>\n",
       "      <th>Variation</th>\n",
       "    </tr>\n",
       "  </thead>\n",
       "  <tbody>\n",
       "    <tr>\n",
       "      <th>count</th>\n",
       "      <td>1190</td>\n",
       "      <td>219</td>\n",
       "    </tr>\n",
       "    <tr>\n",
       "      <th>unique</th>\n",
       "      <td>1008</td>\n",
       "      <td>197</td>\n",
       "    </tr>\n",
       "    <tr>\n",
       "      <th>top</th>\n",
       "      <td>Rotom</td>\n",
       "      <td>Female</td>\n",
       "    </tr>\n",
       "    <tr>\n",
       "      <th>freq</th>\n",
       "      <td>6</td>\n",
       "      <td>4</td>\n",
       "    </tr>\n",
       "  </tbody>\n",
       "</table>\n",
       "</div>"
      ],
      "text/plain": [
       "         Name Variation\n",
       "count    1190       219\n",
       "unique   1008       197\n",
       "top     Rotom    Female\n",
       "freq        6         4"
      ]
     },
     "execution_count": 48,
     "metadata": {},
     "output_type": "execute_result"
    }
   ],
   "source": [
    "#Top values match with frequencies found withing the data. \n",
    "poke_df[[\"Name\",\"Variation\"]].describe()"
   ]
  },
  {
   "cell_type": "code",
   "execution_count": 49,
   "metadata": {},
   "outputs": [
    {
     "data": {
      "text/html": [
       "<div>\n",
       "<style scoped>\n",
       "    .dataframe tbody tr th:only-of-type {\n",
       "        vertical-align: middle;\n",
       "    }\n",
       "\n",
       "    .dataframe tbody tr th {\n",
       "        vertical-align: top;\n",
       "    }\n",
       "\n",
       "    .dataframe thead th {\n",
       "        text-align: right;\n",
       "    }\n",
       "</style>\n",
       "<table border=\"1\" class=\"dataframe\">\n",
       "  <thead>\n",
       "    <tr style=\"text-align: right;\">\n",
       "      <th></th>\n",
       "      <th>#</th>\n",
       "      <th>Name</th>\n",
       "      <th>Variation</th>\n",
       "      <th>Type1</th>\n",
       "      <th>Type2</th>\n",
       "      <th>Total</th>\n",
       "      <th>HP</th>\n",
       "      <th>Attack</th>\n",
       "      <th>Defense</th>\n",
       "      <th>Sp. Atk</th>\n",
       "      <th>Sp. Def</th>\n",
       "      <th>Speed</th>\n",
       "    </tr>\n",
       "  </thead>\n",
       "  <tbody>\n",
       "    <tr>\n",
       "      <th>582</th>\n",
       "      <td>479</td>\n",
       "      <td>Rotom</td>\n",
       "      <td>NaN</td>\n",
       "      <td>Electric</td>\n",
       "      <td>Ghost</td>\n",
       "      <td>440</td>\n",
       "      <td>50</td>\n",
       "      <td>50</td>\n",
       "      <td>77</td>\n",
       "      <td>95</td>\n",
       "      <td>77</td>\n",
       "      <td>91</td>\n",
       "    </tr>\n",
       "    <tr>\n",
       "      <th>583</th>\n",
       "      <td>479</td>\n",
       "      <td>Rotom</td>\n",
       "      <td>Heat Rotom</td>\n",
       "      <td>Electric</td>\n",
       "      <td>Fire</td>\n",
       "      <td>520</td>\n",
       "      <td>50</td>\n",
       "      <td>65</td>\n",
       "      <td>107</td>\n",
       "      <td>105</td>\n",
       "      <td>107</td>\n",
       "      <td>86</td>\n",
       "    </tr>\n",
       "    <tr>\n",
       "      <th>584</th>\n",
       "      <td>479</td>\n",
       "      <td>Rotom</td>\n",
       "      <td>Wash Rotom</td>\n",
       "      <td>Electric</td>\n",
       "      <td>Water</td>\n",
       "      <td>520</td>\n",
       "      <td>50</td>\n",
       "      <td>65</td>\n",
       "      <td>107</td>\n",
       "      <td>105</td>\n",
       "      <td>107</td>\n",
       "      <td>86</td>\n",
       "    </tr>\n",
       "    <tr>\n",
       "      <th>585</th>\n",
       "      <td>479</td>\n",
       "      <td>Rotom</td>\n",
       "      <td>Frost Rotom</td>\n",
       "      <td>Electric</td>\n",
       "      <td>Ice</td>\n",
       "      <td>520</td>\n",
       "      <td>50</td>\n",
       "      <td>65</td>\n",
       "      <td>107</td>\n",
       "      <td>105</td>\n",
       "      <td>107</td>\n",
       "      <td>86</td>\n",
       "    </tr>\n",
       "    <tr>\n",
       "      <th>586</th>\n",
       "      <td>479</td>\n",
       "      <td>Rotom</td>\n",
       "      <td>Fan Rotom</td>\n",
       "      <td>Electric</td>\n",
       "      <td>Flying</td>\n",
       "      <td>520</td>\n",
       "      <td>50</td>\n",
       "      <td>65</td>\n",
       "      <td>107</td>\n",
       "      <td>105</td>\n",
       "      <td>107</td>\n",
       "      <td>86</td>\n",
       "    </tr>\n",
       "    <tr>\n",
       "      <th>587</th>\n",
       "      <td>479</td>\n",
       "      <td>Rotom</td>\n",
       "      <td>Mow Rotom</td>\n",
       "      <td>Electric</td>\n",
       "      <td>Grass</td>\n",
       "      <td>520</td>\n",
       "      <td>50</td>\n",
       "      <td>65</td>\n",
       "      <td>107</td>\n",
       "      <td>105</td>\n",
       "      <td>107</td>\n",
       "      <td>86</td>\n",
       "    </tr>\n",
       "  </tbody>\n",
       "</table>\n",
       "</div>"
      ],
      "text/plain": [
       "       #   Name    Variation     Type1   Type2  Total  HP  Attack  Defense  \\\n",
       "582  479  Rotom          NaN  Electric   Ghost    440  50      50       77   \n",
       "583  479  Rotom   Heat Rotom  Electric    Fire    520  50      65      107   \n",
       "584  479  Rotom   Wash Rotom  Electric   Water    520  50      65      107   \n",
       "585  479  Rotom  Frost Rotom  Electric     Ice    520  50      65      107   \n",
       "586  479  Rotom    Fan Rotom  Electric  Flying    520  50      65      107   \n",
       "587  479  Rotom    Mow Rotom  Electric   Grass    520  50      65      107   \n",
       "\n",
       "     Sp. Atk  Sp. Def  Speed  \n",
       "582       95       77     91  \n",
       "583      105      107     86  \n",
       "584      105      107     86  \n",
       "585      105      107     86  \n",
       "586      105      107     86  \n",
       "587      105      107     86  "
      ]
     },
     "execution_count": 49,
     "metadata": {},
     "output_type": "execute_result"
    }
   ],
   "source": [
    "#testing for Rotom frequency = 6\n",
    "poke_df.loc[poke_df['Name'].isin(['Rotom'])]"
   ]
  },
  {
   "cell_type": "code",
   "execution_count": 50,
   "metadata": {},
   "outputs": [
    {
     "data": {
      "text/plain": [
       "Name\n",
       "Rotom    0\n",
       "Name: Variation, dtype: int64"
      ]
     },
     "execution_count": 50,
     "metadata": {},
     "output_type": "execute_result"
    }
   ],
   "source": [
    "#checking NaN = 0\n",
    "poke_df.loc[[582]].groupby(\"Name\")[\"Variation\"].count()"
   ]
  },
  {
   "cell_type": "code",
   "execution_count": null,
   "metadata": {},
   "outputs": [],
   "source": []
  },
  {
   "cell_type": "markdown",
   "metadata": {
    "azdata_cell_guid": "dedc0bfe-17d0-40b2-914f-2ddb54f9ce0d"
   },
   "source": [
    "## Summarize Your Results\n",
    "\n",
    "Make note of your answers to the following questions.\n",
    "\n",
    "1. Did you find all four types of dirty data in your dataset?\n",
    "\n",
    "* Missing data: Data is missing in Variations and Type2, however this is okay as not all will have a Variation or Type2.\n",
    "\n",
    "* Irregular Data: Inspected further into Variations and Type 2. In Varriations the most common is\n",
    "\n",
    "* `Female`                  4\n",
    "\n",
    "* `Male`                    4\n",
    "\n",
    "* `Therian Forme`           4\n",
    "\n",
    "* `Incarnate Forme`         4\n",
    "\n",
    "* `Origin Forme`            3\n",
    "\n",
    "* `Trash Cloak`             2\n",
    "\n",
    "* `Small Size`              2\n",
    "\n",
    "* `Average Size`            2\n",
    "\n",
    "* `Super Size`              2\n",
    "\n",
    "* `Hero of Many Battles`    2\n",
    "\n",
    "* `Large Size`             2\n",
    "\n",
    "* `Sandy Cloak`             2\n",
    "\n",
    "* `Plant Cloak`             2\n",
    "\n",
    "\n",
    "* Unnecessary Data: While there are several Variations for the same pokemon, further ispection shows that these Variations do effect the stats so I did no remove them. \n",
    "\n",
    "* Inconsistent Data: Further ispection of the correlation in Variations and Name show that Variations effects the number of counts for Name. However this is due to the Variation type having an effect on either Stats or typing of the pokemon. \n",
    "\n",
    "2. Did the process of cleaning your data give you new insights into your dataset?\n",
    "\n",
    "* Yes, further ispection shows that I will need to do some malipulation and how to handle the duplicate names vs. Variations.\n",
    "\n",
    "3. Is there anything you would like to make note of when it comes to manipulating the data and making visualizations?\n",
    "\n",
    "* I will most likely have to create new names and include the Variation within in the pokemon vs. having a seperate column for each. "
   ]
  },
  {
   "cell_type": "code",
   "execution_count": null,
   "metadata": {},
   "outputs": [],
   "source": []
  },
  {
   "cell_type": "code",
   "execution_count": null,
   "metadata": {},
   "outputs": [],
   "source": []
  }
 ],
 "metadata": {
  "kernelspec": {
   "display_name": "Python 3 (ipykernel)",
   "language": "python",
   "name": "python3"
  },
  "language_info": {
   "codemirror_mode": {
    "name": "ipython",
    "version": 3
   },
   "file_extension": ".py",
   "mimetype": "text/x-python",
   "name": "python",
   "nbconvert_exporter": "python",
   "pygments_lexer": "ipython3",
   "version": "3.9.12"
  }
 },
 "nbformat": 4,
 "nbformat_minor": 2
}
